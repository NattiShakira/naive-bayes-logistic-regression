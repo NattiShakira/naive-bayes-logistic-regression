{
  "cells": [
    {
      "cell_type": "markdown",
      "metadata": {
        "id": "OG-EvhIUKPxY"
      },
      "source": [
        "# Practical 2 : Generative and Discriminative Models\n"
      ]
    },
    {
      "cell_type": "markdown",
      "metadata": {
        "id": "CID1RWZfKPxa"
      },
      "source": [
        "In this practical, we will compare the Naïve Bayes Classifier (NBC) and Logistic Regression on several\n",
        "datasets. As part of the practical you should read briefly the following paper:\n",
        "\n"
      ]
    },
    {
      "cell_type": "markdown",
      "metadata": {
        "id": "-E5ZX9WnKPxb"
      },
      "source": [
        "**On Discriminative vs. Generative classifiers: A comparison of logistic regression\n",
        "and naive Bayes**  \n",
        "*Andrew Y. Ng and Michael I. Jordan*  \n",
        "Advances in Neural Information Processing Systems (NIPS) 2001.\n",
        "\n",
        "The paper is available on OLAT."
      ]
    },
    {
      "cell_type": "markdown",
      "metadata": {
        "id": "wSLrz5WlKPxb"
      },
      "source": [
        "You should read the Introduction and the Experiments sections. The goal of this practical is\n",
        "to qualitatively reproduce some of the experimental results in this paper. You are strongly\n",
        "encouraged to read the rest of the paper, which is rather short and straightforward to read,\n",
        "though some of you may want to skip the formal proofs."
      ]
    },
    {
      "cell_type": "markdown",
      "metadata": {
        "id": "ZVdarnnQKPxb"
      },
      "source": [
        "## Naïve Bayes Classifier (NBC)"
      ]
    },
    {
      "cell_type": "markdown",
      "metadata": {
        "id": "Y7DQHxlCKPxb"
      },
      "source": [
        "You should implement a Naïve Bayes Classifier from scartch using NumPy. To keep your code tidy,\n",
        "we recommend implementing it as a class.\n",
        "The classifier should be able to handle binary and continuous features.\n",
        "To earn the bonus points, the classifier should be able to handle categorical features as well.\n",
        "Suppose the data has 3\n",
        "different features, the first being binary, the second being continuous and the third being categorical. Write an implementation that you can initialise as follows:\n",
        "\n",
        "    nbc = NBC(feature_types=['b', 'r', 'c'])"
      ]
    },
    {
      "cell_type": "markdown",
      "metadata": {
        "id": "PZcFYHQtKPxc"
      },
      "source": [
        "Along the lines of classifiers provided in sklearn, you want to implement two more functions,\n",
        "**fit** and **predict**.\n",
        "Recall the joint distribution of a generative model: $p(\\mathbf{x}, y \\mid \\theta, \\pi) = p(y \\mid \\pi) \\cdot p(\\mathbf{x} \\mid y, \\theta)$.\n",
        "The **fit** function is to estimate all the parameters ($\\theta$ and $\\pi$) of the NBC, i.e., train the classifier. The **predict** function is to compute the probabilities that the new input belongs to all classes and\n",
        "then return the class that has the largest probability, i.e., make the prediction.\n",
        "\n",
        "    nbc.fit(X_train, y_train)\n",
        "    ypredicted = nbc.predict(X_test)\n",
        "    test_accuracy = np.mean(ypredicted == ytest)"
      ]
    },
    {
      "cell_type": "markdown",
      "metadata": {
        "id": "07SB9rftKPxc"
      },
      "source": [
        "Here we import the libraries."
      ]
    },
    {
      "cell_type": "code",
      "execution_count": 1,
      "metadata": {
        "id": "eI-A8jarKPxc"
      },
      "outputs": [],
      "source": [
        "%matplotlib inline\n",
        "import pylab\n",
        "pylab.rcParams['figure.figsize'] = (10., 10.)\n",
        "\n",
        "import pickle as cp\n",
        "import matplotlib.pyplot as plt\n",
        "import numpy as np"
      ]
    },
    {
      "cell_type": "code",
      "source": [
        "#from google.colab import drive\n",
        "#drive.mount('/content/drive')\n",
        "#%cd /content/drive/My Drive/Colab Notebooks/FDS/Practical 2"
      ],
      "metadata": {
        "id": "USm8VbQK3L_T",
        "colab": {
          "base_uri": "https://localhost:8080/"
        },
        "outputId": "27eed739-5513-4a04-feca-ebc1130b3d01"
      },
      "execution_count": 2,
      "outputs": [
        {
          "output_type": "stream",
          "name": "stdout",
          "text": [
            "Mounted at /content/drive\n",
            "/content/drive/My Drive/Colab Notebooks/FDS/Practical 2\n"
          ]
        }
      ]
    },
    {
      "cell_type": "markdown",
      "metadata": {
        "id": "bP3zbk-LKPxd"
      },
      "source": [
        "### Class-conditional distributions\n",
        "\n",
        "Before implementing NBC, we first implement the class-conditional distributions $p(\\mathbf{x} \\mid y, \\theta)$. Your implementation should have two functions: **estimate** and **get_log_probability**.\n",
        "\n",
        "- The **estimate** function takes data as input and models the data using some distribution $p(x \\mid \\theta)$, where $\\theta$ is the parameters of this distribution. The function estimates the parameters $\\theta$ using maximum likelihood estimators (MLE).\n",
        "For example, in the case of continuous features, we use the Gaussian distribution to model the data. The estimate function will find the parameters $\\mu$ and $\\sigma$ for the Gaussian distribution with respect to the input data.\n",
        "\n",
        "- The **get_log_probability** function takes as input a new data point $x_{new}$ and returns the log of $p(x_{new} \\mid \\theta)$. For the Gaussian distribution, the function get_probability will return $\\mathcal{N}(x_{new} \\mid \\mu, \\sigma)$."
      ]
    },
    {
      "cell_type": "markdown",
      "metadata": {
        "id": "TAsVMN5dKPxd"
      },
      "source": [
        "For different types of features, you need to use different distributions.\n",
        "You can import statistic libraries (e.g., `scipy.stats`) for the implementation of the distributions.\n",
        "\n",
        "- For **continuous features**: Use Gaussian distribution\n",
        "    https://docs.scipy.org/doc/scipy/reference/generated/scipy.stats.norm.html\n",
        "- For **binary features**: Use Bernoulli distribution\n",
        "    https://docs.scipy.org/doc/scipy/reference/generated/scipy.stats.bernoulli.html\n",
        "- For **categorical features**: Use Multinoulli distribution (The multinoulli distribution is a special case of the multinomial distribution, where the number of trials is 1)\n",
        "    https://docs.scipy.org/doc/scipy/reference/generated/scipy.stats.multinomial.html\n",
        "\n"
      ]
    },
    {
      "cell_type": "markdown",
      "metadata": {
        "id": "mv60Z5DWKPxe"
      },
      "source": [
        "**Implementation Issues:**\n",
        "- The probabilities can be very small. To avoid underflow issues, you should compute the log of the probabilities. Read more: (Mur) Chapter 3.5.3 / Lecture Notes\n",
        "- The variance for Gaussian distributions should never be exactly 0, so in\n",
        "case your calculated variance is 0, you may want to set it to a small value such as 1e − 6. This is to ensure that your code never encounters division by zero or\n",
        "taking logarithms of 0 errors.\n",
        "For this practical, please set the small value to 1e-6.\n",
        "- Laplace/Additive smoothing: You want to ensure that the estimates for the parameter for the Bernoulli and Multinoulli random variables is never exactly 0 or 1. For this reason you should consider using Laplace smoothing (https://en.wikipedia.org/wiki/Additive_smoothing).\n",
        "For this practical, please set alpha to 1.\n",
        "- We will check the correctness of your implementation using the tests below.\n",
        "- For simplicity, you can assume the data values for binary features are integers from {0,1} and the data for a categorical feature with M categories are integers from {0, ..., M-1}.\n",
        "- Fell free to add auxiliary functions or change the parameters of the functions. If you change the parameters of the functions, make sure you change the tests accordingly, so we can test your code.\n"
      ]
    },
    {
      "cell_type": "code",
      "execution_count": 3,
      "metadata": {
        "id": "3S9Q0xPnKPxe"
      },
      "outputs": [],
      "source": [
        "from scipy.stats import norm, binom\n",
        "\n",
        "ALPHA = 1.0 # for additive smoothing\n",
        "SMALL_V = 1e-6\n",
        "\n",
        "# Distribution for continuous features\n",
        "class ContFeatureParam:\n",
        "\n",
        "    def __init__(self, X):\n",
        "        self.X = X\n",
        "        self.mu = 0\n",
        "        self.std = SMALL_V\n",
        "        self.norm = []\n",
        "\n",
        "    def estimate(self):\n",
        "        # TODO: Estimate the parameters for the Gaussian distribution\n",
        "        # so that it best describes the input data X\n",
        "        self.mu = np.mean(self.X)\n",
        "        self.std = np.std(self.X)\n",
        "        self.norm = norm(loc=self.mu, scale=self.std)\n",
        "\n",
        "    def get_log_probability(self, X_new):\n",
        "        # TODO: return the log of the density values for the input values X_new\n",
        "        return self.norm.logpdf(X_new)\n",
        "\n",
        "# Distribution for binary features\n",
        "class BinFeatureParam:\n",
        "\n",
        "    def __init__(self, X):\n",
        "        self.X = X\n",
        "        self.p = 0\n",
        "        self.n = 0\n",
        "        self.binomial = []\n",
        "\n",
        "    def estimate(self):\n",
        "        # TODO: Estimate the parameters for the Bernoulli distribution\n",
        "        # so that it best describes the input data X\n",
        "        # X is a vector with binary values\n",
        "        counts_success = np.sum(self.X)\n",
        "        assert len(self.X) - np.count_nonzero(self.X == 0) == counts_success\n",
        "        self.n = len(self.X) + 2 * ALPHA\n",
        "        self.p = (counts_success + ALPHA) / self.n\n",
        "        self.binomial = binom(n=self.n, p=self.p)\n",
        "\n",
        "    def get_log_probability(self, X_new):\n",
        "        # TODO: return the log of the probability values for the input values X_new\n",
        "        return [np.log(self.p) if x == 1 else np.log(1 - self.p) for x in X_new]\n",
        "\n",
        "# Distribution for categorical features\n",
        "class CatFeatureParam:\n",
        "\n",
        "    # we need to know the number of categories for the categorical feature\n",
        "    def __init__(self, X, num_of_categories):\n",
        "        self._num_of_categories = num_of_categories\n",
        "        self.X = X\n",
        "        self.p = []\n",
        "        self.multinomial = {}\n",
        "\n",
        "    def estimate(self):\n",
        "        # TODO: Estimate the parameters for the Multinoulli distribution\n",
        "        # so that it best describes the input data X\n",
        "        counts = np.bincount(self.X)\n",
        "        assert len(counts) == self._num_of_categories\n",
        "        smoothed_counts = counts + ALPHA\n",
        "        total_counts = np.sum(smoothed_counts)\n",
        "        self.p = smoothed_counts / total_counts\n",
        "        self.multinomial = {i: value for i, value in enumerate(self.p)}\n",
        "\n",
        "    def get_log_probability(self, X_new):\n",
        "        # TODO: return the log of the probability values for the input values X_new\n",
        "        # print([self.multinomial[x] if x in self.multinomial else 0 for x in X_new][-20])\n",
        "        return [np.log(self.multinomial[x]) if x in self.multinomial else SMALL_V for x in X_new]"
      ]
    },
    {
      "cell_type": "markdown",
      "metadata": {
        "id": "O0l5M7xwKPxe"
      },
      "source": [
        "**Tests:**\n",
        "    \n",
        "We will use the code below to test the correctness of your code."
      ]
    },
    {
      "cell_type": "code",
      "execution_count": 4,
      "metadata": {
        "colab": {
          "base_uri": "https://localhost:8080/"
        },
        "id": "ODmSKjV8KPxf",
        "outputId": "c8ea48d1-0e43-4141-fd74-847e234de4df"
      },
      "outputs": [
        {
          "output_type": "stream",
          "name": "stdout",
          "text": [
            "[-5.64670664 -3.02757918 -1.44567455 -0.90099277]\n"
          ]
        }
      ],
      "source": [
        "# continuous features\n",
        "\n",
        "X = np.array([2.70508547,2.10499698,1.76019132,3.42016431,3.47037973,3.67435061,1.84749286,4.3388506,2.27818252,4.65165335])\n",
        "\n",
        "param = ContFeatureParam(X)\n",
        "param.estimate()\n",
        "probs = param.get_log_probability(np.array([0,1,2,3]))\n",
        "print(probs)"
      ]
    },
    {
      "cell_type": "code",
      "execution_count": 5,
      "metadata": {
        "colab": {
          "base_uri": "https://localhost:8080/"
        },
        "id": "f3TthKRAKPxf",
        "outputId": "3a4a4db6-3914-4e5b-bd02-686f306b2fd0"
      },
      "outputs": [
        {
          "output_type": "stream",
          "name": "stdout",
          "text": [
            "[-0.8754687373539001, -0.5389965007326869]\n"
          ]
        }
      ],
      "source": [
        "# binary features\n",
        "\n",
        "X = np.array([0,0,1,1,0,1,0,1,1,1])\n",
        "\n",
        "param = BinFeatureParam(X)\n",
        "param.estimate()\n",
        "probs = param.get_log_probability(np.array([0,1]))\n",
        "print(probs)"
      ]
    },
    {
      "cell_type": "code",
      "execution_count": 6,
      "metadata": {
        "colab": {
          "base_uri": "https://localhost:8080/"
        },
        "id": "8EKA60anKPxf",
        "outputId": "ff08860f-8c6a-4c97-8e26-ac3ebd179cce"
      },
      "outputs": [
        {
          "output_type": "stream",
          "name": "stdout",
          "text": [
            "[-1.9459101490553135, -2.169053700369523, -1.9459101490553135, -2.456735772821304, -2.169053700369523, -2.8622008809294686, -1.9459101490553135, -3.5553480614894135, -2.169053700369523, -2.8622008809294686]\n"
          ]
        }
      ],
      "source": [
        "# categorical features (bonus task)\n",
        "\n",
        "X = np.array([0,6,5,4,0,6,6,4,1,1,2,3,8,8,1,6,4,9,0,2,2,3,8,0,2])\n",
        "\n",
        "param = CatFeatureParam(X, num_of_categories=10)\n",
        "param.estimate()\n",
        "probs = param.get_log_probability(np.array([0,1,2,3,4,5,6,7,8,9]))\n",
        "print(probs)"
      ]
    },
    {
      "cell_type": "markdown",
      "metadata": {
        "id": "cli8gn8HKPxg"
      },
      "source": [
        "### Implement NBC\n",
        "\n",
        "We are now ready to implement NBC. We follow the structure of models in scikit-learn. We implement NBC as a class with functions **init**, **fit** and **predict**.\n",
        "The **init** function takes as input the types of features and initialise the classifier. The **fit** function takes the training data as input and estimates the parameters. The **predict** function predicts the label for the input data."
      ]
    },
    {
      "cell_type": "markdown",
      "metadata": {
        "id": "qtGCFcv-KPxg"
      },
      "source": [
        "**Implementation Issues:**\n",
        "- You should use matrix operations rather than loops. In general, loops over classes or features are OK, but loops over the rows of data are not a good idea.\n",
        "- The probabilities can be very small. To avoid underflow issues, you should do the calculations in log space. Read more: (Mur) Chapter 3.5.3 / Lecture Note\n",
        "- For simplicity, you can assume the data values for binary features are integers from {0, 1} and the data for a categorical feature with M categories are integers from {0, ..., M-1}.\n",
        "- Fell free to add auxiliary functions or change the parameters of the functions. If you change the parameters of the functions, make sure you change the tests accordingly, so we can test your code."
      ]
    },
    {
      "cell_type": "code",
      "execution_count": 7,
      "metadata": {
        "id": "gzh0bsKMKPxg"
      },
      "outputs": [],
      "source": [
        "# Your task is to implement the three functions of NBC.\n",
        "\n",
        "class NBC:\n",
        "    # Inputs:\n",
        "    #   feature_types: the array of the types of the features, e.g., feature_types=['b', 'r', 'c']\n",
        "    def __init__(self, feature_types=[]):\n",
        "        self.feature_types = feature_types\n",
        "        self.labels = []\n",
        "        self.counts = []\n",
        "        self.theta = {}\n",
        "\n",
        "    # The function uses the input data to estimate all the parameters of the NBC\n",
        "    def fit(self, X, y):\n",
        "        self.labels, self.counts = np.unique(y, return_counts=True)\n",
        "\n",
        "        for label in self.labels:\n",
        "            for i, feature in enumerate(self.feature_types):\n",
        "                X_jc = X[y==label, i]\n",
        "                jc = f\"{i}_{label}\"\n",
        "\n",
        "                if feature == \"b\":\n",
        "                    param = BinFeatureParam(X_jc)\n",
        "                    param.estimate()\n",
        "                    self.theta[jc] = param\n",
        "                if feature == \"r\":\n",
        "                    param = ContFeatureParam(X_jc)\n",
        "                    param.estimate()\n",
        "                    self.theta[jc] = param\n",
        "                if feature == \"c\":\n",
        "                    categories = np.bincount(X_jc)\n",
        "                    param = CatFeatureParam(X_jc, num_of_categories=len(categories))\n",
        "                    param.estimate()\n",
        "                    self.theta[jc] = param\n",
        "\n",
        "    # The function takes the data X as input, and predicts the class for the data\n",
        "    def predict(self, X_new):\n",
        "        result = []\n",
        "        for idx, label in enumerate(self.labels):\n",
        "            prob = np.log(self.counts[idx] / np.sum(self.counts))\n",
        "\n",
        "            p = np.zeros(X_new.shape[0])\n",
        "\n",
        "            for i, feature in enumerate(self.feature_types):\n",
        "                X_jc = X_new[:, i]\n",
        "                jc = f\"{i}_{label}\"\n",
        "                p = np.add(p, self.theta[jc].get_log_probability(X_jc))\n",
        "\n",
        "            p = p + prob\n",
        "            result.append(p)\n",
        "\n",
        "        comparison = np.array(result)\n",
        "        return np.argmax(comparison, axis=0)"
      ]
    },
    {
      "cell_type": "markdown",
      "metadata": {
        "id": "GWdx37TTKPxg"
      },
      "source": [
        "**Tests**\n",
        "\n",
        "We will use the code below to check your code."
      ]
    },
    {
      "cell_type": "code",
      "execution_count": 8,
      "metadata": {
        "colab": {
          "base_uri": "https://localhost:8080/"
        },
        "id": "OWXRDBmmKPxg",
        "outputId": "2a93c80b-56c9-48e9-f073-bd0d50960299"
      },
      "outputs": [
        {
          "output_type": "stream",
          "name": "stdout",
          "text": [
            "Accuracy: 0.9333333333333333\n",
            "[2 2 2 2 2 2 2 2 2 2 2 2 2 1 1 2 2 2 2 2 2 2 2 2 2 2 2 2 2 2]\n"
          ]
        }
      ],
      "source": [
        "# All features of the iris dataset are continuous.\n",
        "\n",
        "from sklearn.datasets import load_iris\n",
        "iris = load_iris()\n",
        "X, y = iris['data'], iris['target']\n",
        "\n",
        "N, D = X.shape\n",
        "Ntrain = int(0.8 * N)\n",
        "Xtrain = X[:Ntrain]\n",
        "ytrain = y[:Ntrain]\n",
        "Xtest = X[Ntrain:]\n",
        "ytest = y[Ntrain:]\n",
        "\n",
        "\n",
        "nbc_iris = NBC(feature_types=['r', 'r', 'r', 'r'])\n",
        "nbc_iris.fit(Xtrain, ytrain)\n",
        "yhat = nbc_iris.predict(Xtest)\n",
        "test_accuracy = np.mean(yhat == ytest)\n",
        "\n",
        "print(\"Accuracy:\", test_accuracy) # should be larger than 90%\n",
        "print(yhat)"
      ]
    },
    {
      "cell_type": "code",
      "execution_count": 9,
      "metadata": {
        "colab": {
          "base_uri": "https://localhost:8080/"
        },
        "id": "qWjxCpYnKPxg",
        "outputId": "5b0a9854-78c4-4794-c8b5-4d6281b98a05"
      },
      "outputs": [
        {
          "output_type": "stream",
          "name": "stdout",
          "text": [
            "Accuracy: 0.8723404255319149\n",
            "[1 0 1 1 0 1 1 0 0 1 1 1 0 1 1 1 1 1 0 1 1 0 1 0 0 1 1 1 0 1 1 1 0 1 0 1 0\n",
            " 0 0 1 0 0 0 0 1 1 0]\n"
          ]
        }
      ],
      "source": [
        "# All features of this dataset are binary\n",
        "import pandas as pd\n",
        "data = pd.read_csv('./datasets/binary_test.csv', header=None)\n",
        "#data = pd.read_csv('./sample_data/binary_test.csv', header=None)\n",
        "data = data.to_numpy()\n",
        "\n",
        "X = data[:,1:]\n",
        "y = data[:,0]\n",
        "\n",
        "N, D = X.shape\n",
        "Ntrain = int(0.8 * N)\n",
        "Xtrain = X[:Ntrain]\n",
        "ytrain = y[:Ntrain]\n",
        "Xtest = X[Ntrain:]\n",
        "ytest = y[Ntrain:]\n",
        "\n",
        "\n",
        "nbc = NBC(feature_types=['b'] * 16)\n",
        "nbc.fit(Xtrain, ytrain)\n",
        "yhat = nbc.predict(Xtest)\n",
        "test_accuracy = np.mean(yhat == ytest)\n",
        "\n",
        "print(\"Accuracy:\", test_accuracy) # should be larger than 85%\n",
        "print(yhat)"
      ]
    },
    {
      "cell_type": "code",
      "execution_count": 10,
      "metadata": {
        "colab": {
          "base_uri": "https://localhost:8080/"
        },
        "id": "0yuIbNbFKPxh",
        "outputId": "c1ea1ca0-2acf-44c1-8d15-89b6c706bb9f"
      },
      "outputs": [
        {
          "output_type": "stream",
          "name": "stdout",
          "text": [
            "Accuracy: 0.6896551724137931\n",
            "[0 1 0 1 1 0 1 1 0 1 0 0 1 0 1 0 0 0 0 0 0 0 1 0 0 1 1 0 1 0 1 0 0 0 0 1 0\n",
            " 1 0 0 0 0 0 0 1 0 0 0 0 0 0 0 1 0 0 0 0 0]\n"
          ]
        }
      ],
      "source": [
        "# All features of this dataset are categorical (bonus task)\n",
        "\n",
        "data = pd.read_csv('./datasets/categorical_test.csv', header=None)\n",
        "#data = pd.read_csv('./sample_data/categorical_test.csv', header=None)\n",
        "data = data.to_numpy()\n",
        "\n",
        "X = data[:,:-1]\n",
        "y = data[:,-1]\n",
        "\n",
        "N, D = X.shape\n",
        "Ntrain = int(0.8 * N)\n",
        "Xtrain = X[:Ntrain]\n",
        "ytrain = y[:Ntrain]\n",
        "Xtest = X[Ntrain:]\n",
        "ytest = y[Ntrain:]\n",
        "\n",
        "\n",
        "nbc = NBC(feature_types=['c'] * 9)\n",
        "nbc.fit(Xtrain, ytrain)\n",
        "yhat = nbc.predict(Xtest)\n",
        "test_accuracy = np.mean(yhat == ytest)\n",
        "\n",
        "print(\"Accuracy:\", test_accuracy) # should be larger than 65%\n",
        "print(yhat)"
      ]
    },
    {
      "cell_type": "markdown",
      "metadata": {
        "id": "vRhx1DfrKPxh"
      },
      "source": [
        "## Logistic Regression"
      ]
    },
    {
      "cell_type": "markdown",
      "metadata": {
        "id": "KM_nwCaeKPxh"
      },
      "source": [
        "For logistic regression, you should use the implementation in scikit-learn. Add the following\n",
        "line to import the LR model."
      ]
    },
    {
      "cell_type": "code",
      "execution_count": 11,
      "metadata": {
        "id": "WvC4ZP8CKPxh"
      },
      "outputs": [],
      "source": [
        "from sklearn.linear_model import LogisticRegression"
      ]
    },
    {
      "cell_type": "markdown",
      "metadata": {
        "id": "OFxOoAptKPxh"
      },
      "source": [
        "Check the scikit-learn documentation for the Logistic Regression model:\n",
        "- http://scikit-learn.org/stable/modules/linear_model.html#logistic-regression\n",
        "- http://scikit-learn.org/stable/modules/generated/sklearn.linear_model.LogisticRegression.html#sklearn.linear_model.LogisticRegression\n"
      ]
    },
    {
      "cell_type": "markdown",
      "metadata": {
        "id": "D9pSxgXIKPxh"
      },
      "source": [
        "## Comparing NBC and LR"
      ]
    },
    {
      "cell_type": "markdown",
      "metadata": {
        "id": "d9cr7gcHKPxh"
      },
      "source": [
        "### Experiments\n",
        "\n",
        "The experiment is to compare the classification error of the NBC and LR trained on increasingly larger training datasets.\n",
        "Since the datasets are so small, you should do this multiple times and\n",
        "average the classification error. One run should look as follows:\n",
        "- Shuffle the data, put 20% aside for testing.\n",
        "    \n",
        "    ```N, D = X.shape\n",
        "    Ntrain = int(0.8 * N)\n",
        "    shuffler = np.random.permutation(N)\n",
        "    Xtrain = X[shuffler[:Ntrain]]\n",
        "    ytrain = y[shuffler[:Ntrain]]\n",
        "    Xtest = X[shuffler[Ntrain:]]\n",
        "    ytest = y[shuffler[Ntrain:]]\n",
        "    \n",
        "    ```  \n",
        "\n",
        "\n",
        "- Train the classifiers with increasingly more data. For example, we can train classifiers with 10%, 20%, ..., 100% of the training data. For each case store the classification errors on the test set of the classifiers.\n",
        "\n",
        "You may want to repeat this with at least 200 random permutations (possibly as large as 1000)\n",
        "to average out the test error across the runs. In the end, you will get average test errors as a function of the size of the training data.\n",
        "We have written for you the function for making the plots for the experiments."
      ]
    },
    {
      "cell_type": "code",
      "execution_count": 12,
      "metadata": {
        "id": "3Bd2DJwtKPxh"
      },
      "outputs": [],
      "source": [
        "# inputs:\n",
        "#   nbc: Naive Bayes Classifier\n",
        "#   lr: Logistic Regression Classifier\n",
        "#   X, y: data\n",
        "#   num_runs: we need repeat num_runs times and store average results\n",
        "#   num_splits: we want to compare the two models on increasingly larger training sets.\n",
        "#               num_splits defines the number of increasing steps.\n",
        "# outputs:\n",
        "#   the arrays of the test errors across the runs of the two classifiers\n",
        "\n",
        "from tqdm import tqdm\n",
        "\n",
        "def compareNBCvsLR(nbc, lr, X, y, num_runs=200, num_splits=10):\n",
        "    tst_errs_nbc = [SMALL_V] * num_splits\n",
        "    tst_errs_lr = [SMALL_V] * num_splits\n",
        "\n",
        "    N, D = X.shape\n",
        "    Ntrain = int(0.8 * N)\n",
        "    n_classes = len(set(y))\n",
        "\n",
        "    np.seterr(divide=\"ignore\", invalid=\"ignore\")\n",
        "\n",
        "    for n in tqdm(range(num_runs)):\n",
        "\n",
        "        # Enforces that all the classes are present in the train set\n",
        "        while True:\n",
        "            shuffler = np.random.permutation(N)\n",
        "            Xtrain = X[shuffler[:Ntrain]]\n",
        "            ytrain = y[shuffler[:Ntrain]]\n",
        "            Xtest = X[shuffler[Ntrain:]]\n",
        "            ytest = y[shuffler[Ntrain:]]\n",
        "            smallest_portion = int((0 + 1)/10 * Xtrain.shape[0])\n",
        "            ytrain_smallest = ytrain[:smallest_portion]\n",
        "            if len(set(ytrain_smallest)) == n_classes:\n",
        "                break\n",
        "\n",
        "        for i in range(num_splits):\n",
        "            portion = int((i + 1)/10 * Xtrain.shape[0])\n",
        "            Xsplit = Xtrain[:portion]\n",
        "            ysplit = ytrain[:portion]\n",
        "\n",
        "            nbc.fit(Xsplit, ysplit)\n",
        "            yhat = nbc.predict(Xtest)\n",
        "            nbc_errors = 1 - np.mean(yhat == ytest)\n",
        "            tst_errs_nbc[i] += nbc_errors\n",
        "\n",
        "            lr.fit(Xsplit, ysplit)\n",
        "            lr_errors = 1 - clf_lr.score(Xtest, ytest)\n",
        "            tst_errs_lr[i] += lr_errors\n",
        "\n",
        "    return [x / num_runs for x in tst_errs_nbc], [x / num_runs for x in tst_errs_lr]"
      ]
    },
    {
      "cell_type": "code",
      "execution_count": 13,
      "metadata": {
        "id": "r45luyE_KPxi"
      },
      "outputs": [],
      "source": [
        "def makePlot(nbc_perf, lr_perf, title=None, num_splits=10):\n",
        "    fig = plt.figure()\n",
        "    ax = fig.add_subplot(1, 1, 1)\n",
        "\n",
        "    ax.tick_params(axis='both', labelsize=20)\n",
        "\n",
        "    ax.set_xlabel('Percent of training data used', fontsize=20)\n",
        "    ax.set_ylabel('Classification Error', fontsize=20)\n",
        "    if title is not None: ax.set_title(title, fontsize=25)\n",
        "\n",
        "    xaxis_scale = [(i + 1) * (100/num_splits) for i in range(num_splits)]\n",
        "    plt.plot(xaxis_scale, nbc_perf, label='Naive Bayes')\n",
        "    plt.plot(xaxis_scale, lr_perf, label='Logistic Regression', linestyle='dashed')\n",
        "\n",
        "    ax.legend(loc='upper right', fontsize=20)"
      ]
    },
    {
      "cell_type": "markdown",
      "metadata": {
        "id": "Qrh5vh3wKPxi"
      },
      "source": [
        "### Datasets"
      ]
    },
    {
      "cell_type": "markdown",
      "metadata": {
        "id": "tJGzR7vLKPxi"
      },
      "source": [
        "Tasks: For each dataset,\n",
        "1. Prepare the data for the two classifiers, e.g., handle missing values and the categorical data. When you handle the categorical data, you should check whether the data is ordinal or not. If the data is ordinal, you should encode the data as integers. If the data is not ordinal, you should encode the data as one-hot vectors.\n",
        "2. Show the first 5 rows of the prepared data\n",
        "3. Compare the two classifiers on the dataset and generate the plots\n",
        "\n",
        "The grading will be based on whether the data is correctly prepared and the plots are generated without errors. The grading will not be based on the performance of the classifiers and whether the plots are the same as in the paper."
      ]
    },
    {
      "cell_type": "markdown",
      "metadata": {
        "id": "0JWfpCNzKPxi"
      },
      "source": [
        "**Dataset 1: Iris Dataset**\n",
        "\n",
        "https://scikit-learn.org/stable/auto_examples/datasets/plot_iris_dataset.html"
      ]
    },
    {
      "cell_type": "markdown",
      "source": [
        "**Data preparation:**\n",
        "\n",
        "- The exporation of the Iris dataset showed that there are no missing values and the dataset is balanced (each class is presented equally).\n",
        "\n",
        "- Considering standardization, we decided to not do it, we performed experiments on the Iris dataset as it is.\n",
        "\n",
        "Taking into account that this dataset contains 3 classes, we chose for the logistic regression the following parameters: multi_class='multinomial', solver='lbfgs'."
      ],
      "metadata": {
        "id": "GCFVSk-6pF7P"
      }
    },
    {
      "cell_type": "code",
      "execution_count": 14,
      "metadata": {
        "colab": {
          "base_uri": "https://localhost:8080/",
          "height": 895
        },
        "id": "OGWJuFr4KPxi",
        "outputId": "46079daf-da06-4178-a3ba-67733df9533c"
      },
      "outputs": [
        {
          "output_type": "stream",
          "name": "stderr",
          "text": [
            "100%|██████████| 200/200 [01:29<00:00,  2.23it/s]\n"
          ]
        },
        {
          "output_type": "display_data",
          "data": {
            "text/plain": [
              "<Figure size 1000x1000 with 1 Axes>"
            ],
            "image/png": "[encoded data removed]"
          },
          "metadata": {}
        }
      ],
      "source": [
        "from sklearn.datasets import load_iris\n",
        "\n",
        "iris = load_iris()\n",
        "X, y = iris['data'], iris['target']\n",
        "\n",
        "feature_types = ['r', 'r', 'r', 'r']\n",
        "clf_NBC = NBC(feature_types)\n",
        "clf_lr = LogisticRegression(multi_class='multinomial', solver='lbfgs', max_iter=1000)\n",
        "\n",
        "nbc_perf, lr_perf = compareNBCvsLR(clf_NBC, clf_lr, X, y)\n",
        "makePlot(nbc_perf, lr_perf)"
      ]
    },
    {
      "cell_type": "code",
      "source": [
        "iris_df = pd.DataFrame(iris.data, columns=iris.feature_names)\n",
        "iris_df['target'] = iris.target\n",
        "iris_df.head()"
      ],
      "metadata": {
        "colab": {
          "base_uri": "https://localhost:8080/",
          "height": 206
        },
        "id": "8-saveLlqR2A",
        "outputId": "0f99d888-7c96-4055-d3f5-edaa260ad993"
      },
      "execution_count": 15,
      "outputs": [
        {
          "output_type": "execute_result",
          "data": {
            "text/plain": [
              "   sepal length (cm)  sepal width (cm)  petal length (cm)  petal width (cm)  \\\n",
              "0                5.1               3.5                1.4               0.2   \n",
              "1                4.9               3.0                1.4               0.2   \n",
              "2                4.7               3.2                1.3               0.2   \n",
              "3                4.6               3.1                1.5               0.2   \n",
              "4                5.0               3.6                1.4               0.2   \n",
              "\n",
              "   target  \n",
              "0       0  \n",
              "1       0  \n",
              "2       0  \n",
              "3       0  \n",
              "4       0  "
            ],
            "text/html": [
              "\n",
              "  <div id=\"df-49f675a3-378f-4995-b4c7-bcffb95b38aa\" class=\"colab-df-container\">\n",
              "    <div>\n",
              "<style scoped>\n",
              "    .dataframe tbody tr th:only-of-type {\n",
              "        vertical-align: middle;\n",
              "    }\n",
              "\n",
              "    .dataframe tbody tr th {\n",
              "        vertical-align: top;\n",
              "    }\n",
              "\n",
              "    .dataframe thead th {\n",
              "        text-align: right;\n",
              "    }\n",
              "</style>\n",
              "<table border=\"1\" class=\"dataframe\">\n",
              "  <thead>\n",
              "    <tr style=\"text-align: right;\">\n",
              "      <th></th>\n",
              "      <th>sepal length (cm)</th>\n",
              "      <th>sepal width (cm)</th>\n",
              "      <th>petal length (cm)</th>\n",
              "      <th>petal width (cm)</th>\n",
              "      <th>target</th>\n",
              "    </tr>\n",
              "  </thead>\n",
              "  <tbody>\n",
              "    <tr>\n",
              "      <th>0</th>\n",
              "      <td>5.1</td>\n",
              "      <td>3.5</td>\n",
              "      <td>1.4</td>\n",
              "      <td>0.2</td>\n",
              "      <td>0</td>\n",
              "    </tr>\n",
              "    <tr>\n",
              "      <th>1</th>\n",
              "      <td>4.9</td>\n",
              "      <td>3.0</td>\n",
              "      <td>1.4</td>\n",
              "      <td>0.2</td>\n",
              "      <td>0</td>\n",
              "    </tr>\n",
              "    <tr>\n",
              "      <th>2</th>\n",
              "      <td>4.7</td>\n",
              "      <td>3.2</td>\n",
              "      <td>1.3</td>\n",
              "      <td>0.2</td>\n",
              "      <td>0</td>\n",
              "    </tr>\n",
              "    <tr>\n",
              "      <th>3</th>\n",
              "      <td>4.6</td>\n",
              "      <td>3.1</td>\n",
              "      <td>1.5</td>\n",
              "      <td>0.2</td>\n",
              "      <td>0</td>\n",
              "    </tr>\n",
              "    <tr>\n",
              "      <th>4</th>\n",
              "      <td>5.0</td>\n",
              "      <td>3.6</td>\n",
              "      <td>1.4</td>\n",
              "      <td>0.2</td>\n",
              "      <td>0</td>\n",
              "    </tr>\n",
              "  </tbody>\n",
              "</table>\n",
              "</div>\n",
              "    <div class=\"colab-df-buttons\">\n",
              "\n",
              "  <div class=\"colab-df-container\">\n",
              "    <button class=\"colab-df-convert\" onclick=\"convertToInteractive('df-49f675a3-378f-4995-b4c7-bcffb95b38aa')\"\n",
              "            title=\"Convert this dataframe to an interactive table.\"\n",
              "            style=\"display:none;\">\n",
              "\n",
              "  <svg xmlns=\"http://www.w3.org/2000/svg\" height=\"24px\" viewBox=\"0 -960 960 960\">\n",
              "    <path d=\"M120-120v-720h720v720H120Zm60-500h600v-160H180v160Zm220 220h160v-160H400v160Zm0 220h160v-160H400v160ZM180-400h160v-160H180v160Zm440 0h160v-160H620v160ZM180-180h160v-160H180v160Zm440 0h160v-160H620v160Z\"/>\n",
              "  </svg>\n",
              "    </button>\n",
              "\n",
              "  <style>\n",
              "    .colab-df-container {\n",
              "      display:flex;\n",
              "      gap: 12px;\n",
              "    }\n",
              "\n",
              "    .colab-df-convert {\n",
              "      background-color: #E8F0FE;\n",
              "      border: none;\n",
              "      border-radius: 50%;\n",
              "      cursor: pointer;\n",
              "      display: none;\n",
              "      fill: #1967D2;\n",
              "      height: 32px;\n",
              "      padding: 0 0 0 0;\n",
              "      width: 32px;\n",
              "    }\n",
              "\n",
              "    .colab-df-convert:hover {\n",
              "      background-color: #E2EBFA;\n",
              "      box-shadow: 0px 1px 2px rgba(60, 64, 67, 0.3), 0px 1px 3px 1px rgba(60, 64, 67, 0.15);\n",
              "      fill: #174EA6;\n",
              "    }\n",
              "\n",
              "    .colab-df-buttons div {\n",
              "      margin-bottom: 4px;\n",
              "    }\n",
              "\n",
              "    [theme=dark] .colab-df-convert {\n",
              "      background-color: #3B4455;\n",
              "      fill: #D2E3FC;\n",
              "    }\n",
              "\n",
              "    [theme=dark] .colab-df-convert:hover {\n",
              "      background-color: #434B5C;\n",
              "      box-shadow: 0px 1px 3px 1px rgba(0, 0, 0, 0.15);\n",
              "      filter: drop-shadow(0px 1px 2px rgba(0, 0, 0, 0.3));\n",
              "      fill: #FFFFFF;\n",
              "    }\n",
              "  </style>\n",
              "\n",
              "    <script>\n",
              "      const buttonEl =\n",
              "        document.querySelector('#df-49f675a3-378f-4995-b4c7-bcffb95b38aa button.colab-df-convert');\n",
              "      buttonEl.style.display =\n",
              "        google.colab.kernel.accessAllowed ? 'block' : 'none';\n",
              "\n",
              "      async function convertToInteractive(key) {\n",
              "        const element = document.querySelector('#df-49f675a3-378f-4995-b4c7-bcffb95b38aa');\n",
              "        const dataTable =\n",
              "          await google.colab.kernel.invokeFunction('convertToInteractive',\n",
              "                                                    [key], {});\n",
              "        if (!dataTable) return;\n",
              "\n",
              "        const docLinkHtml = 'Like what you see? Visit the ' +\n",
              "          '<a target=\"_blank\" href=https://colab.research.google.com/notebooks/data_table.ipynb>data table notebook</a>'\n",
              "          + ' to learn more about interactive tables.';\n",
              "        element.innerHTML = '';\n",
              "        dataTable['output_type'] = 'display_data';\n",
              "        await google.colab.output.renderOutput(dataTable, element);\n",
              "        const docLink = document.createElement('div');\n",
              "        docLink.innerHTML = docLinkHtml;\n",
              "        element.appendChild(docLink);\n",
              "      }\n",
              "    </script>\n",
              "  </div>\n",
              "\n",
              "\n",
              "<div id=\"df-8f92db99-278d-46b3-8351-da0c47d12a5f\">\n",
              "  <button class=\"colab-df-quickchart\" onclick=\"quickchart('df-8f92db99-278d-46b3-8351-da0c47d12a5f')\"\n",
              "            title=\"Suggest charts\"\n",
              "            style=\"display:none;\">\n",
              "\n",
              "<svg xmlns=\"http://www.w3.org/2000/svg\" height=\"24px\"viewBox=\"0 0 24 24\"\n",
              "     width=\"24px\">\n",
              "    <g>\n",
              "        <path d=\"M19 3H5c-1.1 0-2 .9-2 2v14c0 1.1.9 2 2 2h14c1.1 0 2-.9 2-2V5c0-1.1-.9-2-2-2zM9 17H7v-7h2v7zm4 0h-2V7h2v10zm4 0h-2v-4h2v4z\"/>\n",
              "    </g>\n",
              "</svg>\n",
              "  </button>\n",
              "\n",
              "<style>\n",
              "  .colab-df-quickchart {\n",
              "      --bg-color: #E8F0FE;\n",
              "      --fill-color: #1967D2;\n",
              "      --hover-bg-color: #E2EBFA;\n",
              "      --hover-fill-color: #174EA6;\n",
              "      --disabled-fill-color: #AAA;\n",
              "      --disabled-bg-color: #DDD;\n",
              "  }\n",
              "\n",
              "  [theme=dark] .colab-df-quickchart {\n",
              "      --bg-color: #3B4455;\n",
              "      --fill-color: #D2E3FC;\n",
              "      --hover-bg-color: #434B5C;\n",
              "      --hover-fill-color: #FFFFFF;\n",
              "      --disabled-bg-color: #3B4455;\n",
              "      --disabled-fill-color: #666;\n",
              "  }\n",
              "\n",
              "  .colab-df-quickchart {\n",
              "    background-color: var(--bg-color);\n",
              "    border: none;\n",
              "    border-radius: 50%;\n",
              "    cursor: pointer;\n",
              "    display: none;\n",
              "    fill: var(--fill-color);\n",
              "    height: 32px;\n",
              "    padding: 0;\n",
              "    width: 32px;\n",
              "  }\n",
              "\n",
              "  .colab-df-quickchart:hover {\n",
              "    background-color: var(--hover-bg-color);\n",
              "    box-shadow: 0 1px 2px rgba(60, 64, 67, 0.3), 0 1px 3px 1px rgba(60, 64, 67, 0.15);\n",
              "    fill: var(--button-hover-fill-color);\n",
              "  }\n",
              "\n",
              "  .colab-df-quickchart-complete:disabled,\n",
              "  .colab-df-quickchart-complete:disabled:hover {\n",
              "    background-color: var(--disabled-bg-color);\n",
              "    fill: var(--disabled-fill-color);\n",
              "    box-shadow: none;\n",
              "  }\n",
              "\n",
              "  .colab-df-spinner {\n",
              "    border: 2px solid var(--fill-color);\n",
              "    border-color: transparent;\n",
              "    border-bottom-color: var(--fill-color);\n",
              "    animation:\n",
              "      spin 1s steps(1) infinite;\n",
              "  }\n",
              "\n",
              "  @keyframes spin {\n",
              "    0% {\n",
              "      border-color: transparent;\n",
              "      border-bottom-color: var(--fill-color);\n",
              "      border-left-color: var(--fill-color);\n",
              "    }\n",
              "    20% {\n",
              "      border-color: transparent;\n",
              "      border-left-color: var(--fill-color);\n",
              "      border-top-color: var(--fill-color);\n",
              "    }\n",
              "    30% {\n",
              "      border-color: transparent;\n",
              "      border-left-color: var(--fill-color);\n",
              "      border-top-color: var(--fill-color);\n",
              "      border-right-color: var(--fill-color);\n",
              "    }\n",
              "    40% {\n",
              "      border-color: transparent;\n",
              "      border-right-color: var(--fill-color);\n",
              "      border-top-color: var(--fill-color);\n",
              "    }\n",
              "    60% {\n",
              "      border-color: transparent;\n",
              "      border-right-color: var(--fill-color);\n",
              "    }\n",
              "    80% {\n",
              "      border-color: transparent;\n",
              "      border-right-color: var(--fill-color);\n",
              "      border-bottom-color: var(--fill-color);\n",
              "    }\n",
              "    90% {\n",
              "      border-color: transparent;\n",
              "      border-bottom-color: var(--fill-color);\n",
              "    }\n",
              "  }\n",
              "</style>\n",
              "\n",
              "  <script>\n",
              "    async function quickchart(key) {\n",
              "      const quickchartButtonEl =\n",
              "        document.querySelector('#' + key + ' button');\n",
              "      quickchartButtonEl.disabled = true;  // To prevent multiple clicks.\n",
              "      quickchartButtonEl.classList.add('colab-df-spinner');\n",
              "      try {\n",
              "        const charts = await google.colab.kernel.invokeFunction(\n",
              "            'suggestCharts', [key], {});\n",
              "      } catch (error) {\n",
              "        console.error('Error during call to suggestCharts:', error);\n",
              "      }\n",
              "      quickchartButtonEl.classList.remove('colab-df-spinner');\n",
              "      quickchartButtonEl.classList.add('colab-df-quickchart-complete');\n",
              "    }\n",
              "    (() => {\n",
              "      let quickchartButtonEl =\n",
              "        document.querySelector('#df-8f92db99-278d-46b3-8351-da0c47d12a5f button');\n",
              "      quickchartButtonEl.style.display =\n",
              "        google.colab.kernel.accessAllowed ? 'block' : 'none';\n",
              "    })();\n",
              "  </script>\n",
              "</div>\n",
              "    </div>\n",
              "  </div>\n"
            ]
          },
          "metadata": {},
          "execution_count": 15
        }
      ]
    },
    {
      "cell_type": "markdown",
      "metadata": {
        "id": "31RL4Ij0KPxi"
      },
      "source": [
        "**Dataset 2: Voting Dataset**\n",
        "\n",
        "https://archive.ics.uci.edu/ml/datasets/congressional+voting+records\n",
        "\n",
        "The logistic regression line meets the naive bayes line early in the plot."
      ]
    },
    {
      "cell_type": "markdown",
      "source": [
        "**Data preparation:**\n",
        "\n",
        "- The original Voting data set contained missing values, thus we decided to drop one column that contains a lot of missing values (export-administration-act-south-africa) and fill in missing values with a mode of the corresponding feature - for all the other columns.\n",
        "\n",
        "- We also encoded labels (\"democrat\", \"republican\") into 1s and 0s.\n",
        "\n",
        "- All the features of this dataset are binary (\"y\", \"n\"), thus, we encoded them into 1s and 0s as well.\n",
        "\n",
        "Since the dataset is binary, we performed logistic regression with defaut arguments (the only change was max_iter=1000)."
      ],
      "metadata": {
        "id": "IwcQI6tDobs5"
      }
    },
    {
      "cell_type": "code",
      "execution_count": 16,
      "metadata": {
        "colab": {
          "base_uri": "https://localhost:8080/",
          "height": 895
        },
        "id": "yQ1baPhXKPxi",
        "outputId": "f5264f7a-c45d-4917-bf0e-2c0aca1d3cd0"
      },
      "outputs": [
        {
          "output_type": "stream",
          "name": "stderr",
          "text": [
            "100%|██████████| 200/200 [01:21<00:00,  2.45it/s]\n"
          ]
        },
        {
          "output_type": "display_data",
          "data": {
            "text/plain": [
              "<Figure size 1000x1000 with 1 Axes>"
            ],
            "image/png": "[encoded data removed]"
          },
          "metadata": {}
        }
      ],
      "source": [
        "voting = pd.read_csv('./datasets/voting.csv')\n",
        "#voting = pd.read_csv('./sample_data/voting.csv')\n",
        "\n",
        "voting[\"label\"] = voting[\"label\"].map({\"republican\": 0, \"democrat\": 1})\n",
        "\n",
        "voting = voting.drop([\"export-administration-act-south-africa\"], axis=1)\n",
        "\n",
        "feature_columns = voting.columns.drop(\"label\")\n",
        "voting[feature_columns] = voting[feature_columns].apply(lambda x: x.map({\"y\": 1, \"n\": 0}))\n",
        "\n",
        "for column in feature_columns:\n",
        "    mode = voting[column].mode()[0]\n",
        "    voting[column].fillna(mode, inplace=True)\n",
        "\n",
        "voting[feature_columns] = voting[feature_columns].astype(int)\n",
        "\n",
        "X = voting.drop(\"label\", axis=1).to_numpy()\n",
        "y = voting[\"label\"].to_numpy()\n",
        "\n",
        "feature_types = [\"b\"] * len(feature_columns)\n",
        "clf_NBC = NBC(feature_types)\n",
        "clf_lr = LogisticRegression(max_iter=1000)\n",
        "\n",
        "nbc_perf, lr_perf = compareNBCvsLR(clf_NBC, clf_lr, X, y)\n",
        "makePlot(nbc_perf, lr_perf)"
      ]
    },
    {
      "cell_type": "code",
      "source": [
        "voting.head()"
      ],
      "metadata": {
        "colab": {
          "base_uri": "https://localhost:8080/",
          "height": 224
        },
        "id": "kwDLXf2Bp1Ys",
        "outputId": "ce58b718-376f-4ca5-e26d-6e4638c5d731"
      },
      "execution_count": 17,
      "outputs": [
        {
          "output_type": "execute_result",
          "data": {
            "text/plain": [
              "   label  handicapped-infants  water-project-cost-sharing  \\\n",
              "0      0                    0                           1   \n",
              "1      0                    0                           1   \n",
              "2      1                    0                           1   \n",
              "3      1                    0                           1   \n",
              "4      1                    1                           1   \n",
              "\n",
              "   adoption-of-the-budget-resolution  physician-fee-freeze  el-salvador-aid  \\\n",
              "0                                  0                     1                1   \n",
              "1                                  0                     1                1   \n",
              "2                                  1                     0                1   \n",
              "3                                  1                     0                1   \n",
              "4                                  1                     0                1   \n",
              "\n",
              "   religious-groups-in-schools  anti-satellite-test-ban  \\\n",
              "0                            1                        0   \n",
              "1                            1                        0   \n",
              "2                            1                        0   \n",
              "3                            1                        0   \n",
              "4                            1                        0   \n",
              "\n",
              "   aid-to-nicaraguan-contras  mx-missile  immigration  \\\n",
              "0                          0           0            1   \n",
              "1                          0           0            0   \n",
              "2                          0           0            0   \n",
              "3                          0           0            0   \n",
              "4                          0           0            0   \n",
              "\n",
              "   synfuels-corporation-cutback  education-spending  superfund-right-to-sue  \\\n",
              "0                             0                   1                       1   \n",
              "1                             0                   1                       1   \n",
              "2                             1                   0                       1   \n",
              "3                             1                   0                       1   \n",
              "4                             1                   0                       1   \n",
              "\n",
              "   crime  duty-free-exports  \n",
              "0      1                  0  \n",
              "1      1                  0  \n",
              "2      1                  0  \n",
              "3      0                  0  \n",
              "4      1                  1  "
            ],
            "text/html": [
              "\n",
              "  <div id=\"df-356c219b-28a7-422e-9734-c1514be7e07a\" class=\"colab-df-container\">\n",
              "    <div>\n",
              "<style scoped>\n",
              "    .dataframe tbody tr th:only-of-type {\n",
              "        vertical-align: middle;\n",
              "    }\n",
              "\n",
              "    .dataframe tbody tr th {\n",
              "        vertical-align: top;\n",
              "    }\n",
              "\n",
              "    .dataframe thead th {\n",
              "        text-align: right;\n",
              "    }\n",
              "</style>\n",
              "<table border=\"1\" class=\"dataframe\">\n",
              "  <thead>\n",
              "    <tr style=\"text-align: right;\">\n",
              "      <th></th>\n",
              "      <th>label</th>\n",
              "      <th>handicapped-infants</th>\n",
              "      <th>water-project-cost-sharing</th>\n",
              "      <th>adoption-of-the-budget-resolution</th>\n",
              "      <th>physician-fee-freeze</th>\n",
              "      <th>el-salvador-aid</th>\n",
              "      <th>religious-groups-in-schools</th>\n",
              "      <th>anti-satellite-test-ban</th>\n",
              "      <th>aid-to-nicaraguan-contras</th>\n",
              "      <th>mx-missile</th>\n",
              "      <th>immigration</th>\n",
              "      <th>synfuels-corporation-cutback</th>\n",
              "      <th>education-spending</th>\n",
              "      <th>superfund-right-to-sue</th>\n",
              "      <th>crime</th>\n",
              "      <th>duty-free-exports</th>\n",
              "    </tr>\n",
              "  </thead>\n",
              "  <tbody>\n",
              "    <tr>\n",
              "      <th>0</th>\n",
              "      <td>0</td>\n",
              "      <td>0</td>\n",
              "      <td>1</td>\n",
              "      <td>0</td>\n",
              "      <td>1</td>\n",
              "      <td>1</td>\n",
              "      <td>1</td>\n",
              "      <td>0</td>\n",
              "      <td>0</td>\n",
              "      <td>0</td>\n",
              "      <td>1</td>\n",
              "      <td>0</td>\n",
              "      <td>1</td>\n",
              "      <td>1</td>\n",
              "      <td>1</td>\n",
              "      <td>0</td>\n",
              "    </tr>\n",
              "    <tr>\n",
              "      <th>1</th>\n",
              "      <td>0</td>\n",
              "      <td>0</td>\n",
              "      <td>1</td>\n",
              "      <td>0</td>\n",
              "      <td>1</td>\n",
              "      <td>1</td>\n",
              "      <td>1</td>\n",
              "      <td>0</td>\n",
              "      <td>0</td>\n",
              "      <td>0</td>\n",
              "      <td>0</td>\n",
              "      <td>0</td>\n",
              "      <td>1</td>\n",
              "      <td>1</td>\n",
              "      <td>1</td>\n",
              "      <td>0</td>\n",
              "    </tr>\n",
              "    <tr>\n",
              "      <th>2</th>\n",
              "      <td>1</td>\n",
              "      <td>0</td>\n",
              "      <td>1</td>\n",
              "      <td>1</td>\n",
              "      <td>0</td>\n",
              "      <td>1</td>\n",
              "      <td>1</td>\n",
              "      <td>0</td>\n",
              "      <td>0</td>\n",
              "      <td>0</td>\n",
              "      <td>0</td>\n",
              "      <td>1</td>\n",
              "      <td>0</td>\n",
              "      <td>1</td>\n",
              "      <td>1</td>\n",
              "      <td>0</td>\n",
              "    </tr>\n",
              "    <tr>\n",
              "      <th>3</th>\n",
              "      <td>1</td>\n",
              "      <td>0</td>\n",
              "      <td>1</td>\n",
              "      <td>1</td>\n",
              "      <td>0</td>\n",
              "      <td>1</td>\n",
              "      <td>1</td>\n",
              "      <td>0</td>\n",
              "      <td>0</td>\n",
              "      <td>0</td>\n",
              "      <td>0</td>\n",
              "      <td>1</td>\n",
              "      <td>0</td>\n",
              "      <td>1</td>\n",
              "      <td>0</td>\n",
              "      <td>0</td>\n",
              "    </tr>\n",
              "    <tr>\n",
              "      <th>4</th>\n",
              "      <td>1</td>\n",
              "      <td>1</td>\n",
              "      <td>1</td>\n",
              "      <td>1</td>\n",
              "      <td>0</td>\n",
              "      <td>1</td>\n",
              "      <td>1</td>\n",
              "      <td>0</td>\n",
              "      <td>0</td>\n",
              "      <td>0</td>\n",
              "      <td>0</td>\n",
              "      <td>1</td>\n",
              "      <td>0</td>\n",
              "      <td>1</td>\n",
              "      <td>1</td>\n",
              "      <td>1</td>\n",
              "    </tr>\n",
              "  </tbody>\n",
              "</table>\n",
              "</div>\n",
              "    <div class=\"colab-df-buttons\">\n",
              "\n",
              "  <div class=\"colab-df-container\">\n",
              "    <button class=\"colab-df-convert\" onclick=\"convertToInteractive('df-356c219b-28a7-422e-9734-c1514be7e07a')\"\n",
              "            title=\"Convert this dataframe to an interactive table.\"\n",
              "            style=\"display:none;\">\n",
              "\n",
              "  <svg xmlns=\"http://www.w3.org/2000/svg\" height=\"24px\" viewBox=\"0 -960 960 960\">\n",
              "    <path d=\"M120-120v-720h720v720H120Zm60-500h600v-160H180v160Zm220 220h160v-160H400v160Zm0 220h160v-160H400v160ZM180-400h160v-160H180v160Zm440 0h160v-160H620v160ZM180-180h160v-160H180v160Zm440 0h160v-160H620v160Z\"/>\n",
              "  </svg>\n",
              "    </button>\n",
              "\n",
              "  <style>\n",
              "    .colab-df-container {\n",
              "      display:flex;\n",
              "      gap: 12px;\n",
              "    }\n",
              "\n",
              "    .colab-df-convert {\n",
              "      background-color: #E8F0FE;\n",
              "      border: none;\n",
              "      border-radius: 50%;\n",
              "      cursor: pointer;\n",
              "      display: none;\n",
              "      fill: #1967D2;\n",
              "      height: 32px;\n",
              "      padding: 0 0 0 0;\n",
              "      width: 32px;\n",
              "    }\n",
              "\n",
              "    .colab-df-convert:hover {\n",
              "      background-color: #E2EBFA;\n",
              "      box-shadow: 0px 1px 2px rgba(60, 64, 67, 0.3), 0px 1px 3px 1px rgba(60, 64, 67, 0.15);\n",
              "      fill: #174EA6;\n",
              "    }\n",
              "\n",
              "    .colab-df-buttons div {\n",
              "      margin-bottom: 4px;\n",
              "    }\n",
              "\n",
              "    [theme=dark] .colab-df-convert {\n",
              "      background-color: #3B4455;\n",
              "      fill: #D2E3FC;\n",
              "    }\n",
              "\n",
              "    [theme=dark] .colab-df-convert:hover {\n",
              "      background-color: #434B5C;\n",
              "      box-shadow: 0px 1px 3px 1px rgba(0, 0, 0, 0.15);\n",
              "      filter: drop-shadow(0px 1px 2px rgba(0, 0, 0, 0.3));\n",
              "      fill: #FFFFFF;\n",
              "    }\n",
              "  </style>\n",
              "\n",
              "    <script>\n",
              "      const buttonEl =\n",
              "        document.querySelector('#df-356c219b-28a7-422e-9734-c1514be7e07a button.colab-df-convert');\n",
              "      buttonEl.style.display =\n",
              "        google.colab.kernel.accessAllowed ? 'block' : 'none';\n",
              "\n",
              "      async function convertToInteractive(key) {\n",
              "        const element = document.querySelector('#df-356c219b-28a7-422e-9734-c1514be7e07a');\n",
              "        const dataTable =\n",
              "          await google.colab.kernel.invokeFunction('convertToInteractive',\n",
              "                                                    [key], {});\n",
              "        if (!dataTable) return;\n",
              "\n",
              "        const docLinkHtml = 'Like what you see? Visit the ' +\n",
              "          '<a target=\"_blank\" href=https://colab.research.google.com/notebooks/data_table.ipynb>data table notebook</a>'\n",
              "          + ' to learn more about interactive tables.';\n",
              "        element.innerHTML = '';\n",
              "        dataTable['output_type'] = 'display_data';\n",
              "        await google.colab.output.renderOutput(dataTable, element);\n",
              "        const docLink = document.createElement('div');\n",
              "        docLink.innerHTML = docLinkHtml;\n",
              "        element.appendChild(docLink);\n",
              "      }\n",
              "    </script>\n",
              "  </div>\n",
              "\n",
              "\n",
              "<div id=\"df-fe194987-aa71-46bf-891b-81c038fdde09\">\n",
              "  <button class=\"colab-df-quickchart\" onclick=\"quickchart('df-fe194987-aa71-46bf-891b-81c038fdde09')\"\n",
              "            title=\"Suggest charts\"\n",
              "            style=\"display:none;\">\n",
              "\n",
              "<svg xmlns=\"http://www.w3.org/2000/svg\" height=\"24px\"viewBox=\"0 0 24 24\"\n",
              "     width=\"24px\">\n",
              "    <g>\n",
              "        <path d=\"M19 3H5c-1.1 0-2 .9-2 2v14c0 1.1.9 2 2 2h14c1.1 0 2-.9 2-2V5c0-1.1-.9-2-2-2zM9 17H7v-7h2v7zm4 0h-2V7h2v10zm4 0h-2v-4h2v4z\"/>\n",
              "    </g>\n",
              "</svg>\n",
              "  </button>\n",
              "\n",
              "<style>\n",
              "  .colab-df-quickchart {\n",
              "      --bg-color: #E8F0FE;\n",
              "      --fill-color: #1967D2;\n",
              "      --hover-bg-color: #E2EBFA;\n",
              "      --hover-fill-color: #174EA6;\n",
              "      --disabled-fill-color: #AAA;\n",
              "      --disabled-bg-color: #DDD;\n",
              "  }\n",
              "\n",
              "  [theme=dark] .colab-df-quickchart {\n",
              "      --bg-color: #3B4455;\n",
              "      --fill-color: #D2E3FC;\n",
              "      --hover-bg-color: #434B5C;\n",
              "      --hover-fill-color: #FFFFFF;\n",
              "      --disabled-bg-color: #3B4455;\n",
              "      --disabled-fill-color: #666;\n",
              "  }\n",
              "\n",
              "  .colab-df-quickchart {\n",
              "    background-color: var(--bg-color);\n",
              "    border: none;\n",
              "    border-radius: 50%;\n",
              "    cursor: pointer;\n",
              "    display: none;\n",
              "    fill: var(--fill-color);\n",
              "    height: 32px;\n",
              "    padding: 0;\n",
              "    width: 32px;\n",
              "  }\n",
              "\n",
              "  .colab-df-quickchart:hover {\n",
              "    background-color: var(--hover-bg-color);\n",
              "    box-shadow: 0 1px 2px rgba(60, 64, 67, 0.3), 0 1px 3px 1px rgba(60, 64, 67, 0.15);\n",
              "    fill: var(--button-hover-fill-color);\n",
              "  }\n",
              "\n",
              "  .colab-df-quickchart-complete:disabled,\n",
              "  .colab-df-quickchart-complete:disabled:hover {\n",
              "    background-color: var(--disabled-bg-color);\n",
              "    fill: var(--disabled-fill-color);\n",
              "    box-shadow: none;\n",
              "  }\n",
              "\n",
              "  .colab-df-spinner {\n",
              "    border: 2px solid var(--fill-color);\n",
              "    border-color: transparent;\n",
              "    border-bottom-color: var(--fill-color);\n",
              "    animation:\n",
              "      spin 1s steps(1) infinite;\n",
              "  }\n",
              "\n",
              "  @keyframes spin {\n",
              "    0% {\n",
              "      border-color: transparent;\n",
              "      border-bottom-color: var(--fill-color);\n",
              "      border-left-color: var(--fill-color);\n",
              "    }\n",
              "    20% {\n",
              "      border-color: transparent;\n",
              "      border-left-color: var(--fill-color);\n",
              "      border-top-color: var(--fill-color);\n",
              "    }\n",
              "    30% {\n",
              "      border-color: transparent;\n",
              "      border-left-color: var(--fill-color);\n",
              "      border-top-color: var(--fill-color);\n",
              "      border-right-color: var(--fill-color);\n",
              "    }\n",
              "    40% {\n",
              "      border-color: transparent;\n",
              "      border-right-color: var(--fill-color);\n",
              "      border-top-color: var(--fill-color);\n",
              "    }\n",
              "    60% {\n",
              "      border-color: transparent;\n",
              "      border-right-color: var(--fill-color);\n",
              "    }\n",
              "    80% {\n",
              "      border-color: transparent;\n",
              "      border-right-color: var(--fill-color);\n",
              "      border-bottom-color: var(--fill-color);\n",
              "    }\n",
              "    90% {\n",
              "      border-color: transparent;\n",
              "      border-bottom-color: var(--fill-color);\n",
              "    }\n",
              "  }\n",
              "</style>\n",
              "\n",
              "  <script>\n",
              "    async function quickchart(key) {\n",
              "      const quickchartButtonEl =\n",
              "        document.querySelector('#' + key + ' button');\n",
              "      quickchartButtonEl.disabled = true;  // To prevent multiple clicks.\n",
              "      quickchartButtonEl.classList.add('colab-df-spinner');\n",
              "      try {\n",
              "        const charts = await google.colab.kernel.invokeFunction(\n",
              "            'suggestCharts', [key], {});\n",
              "      } catch (error) {\n",
              "        console.error('Error during call to suggestCharts:', error);\n",
              "      }\n",
              "      quickchartButtonEl.classList.remove('colab-df-spinner');\n",
              "      quickchartButtonEl.classList.add('colab-df-quickchart-complete');\n",
              "    }\n",
              "    (() => {\n",
              "      let quickchartButtonEl =\n",
              "        document.querySelector('#df-fe194987-aa71-46bf-891b-81c038fdde09 button');\n",
              "      quickchartButtonEl.style.display =\n",
              "        google.colab.kernel.accessAllowed ? 'block' : 'none';\n",
              "    })();\n",
              "  </script>\n",
              "</div>\n",
              "    </div>\n",
              "  </div>\n"
            ]
          },
          "metadata": {},
          "execution_count": 17
        }
      ]
    },
    {
      "cell_type": "markdown",
      "metadata": {
        "id": "YrRO2mbaKPxi"
      },
      "source": [
        "**Dataset 3: Breast Cancer Dataset (Bonus Tasks)**\n",
        "\n",
        "https://archive.ics.uci.edu/ml/datasets/breast+cancer\n",
        "\n",
        "The dataset has continues, binary and categorical features. It also has missing values.\n",
        "\n",
        "Hints: You can precompute the size of the domains of the categorical features."
      ]
    },
    {
      "cell_type": "code",
      "source": [
        "cancer = pd.read_csv('./datasets/breast-cancer.csv')\n",
        "cancer.info()"
      ],
      "metadata": {
        "colab": {
          "base_uri": "https://localhost:8080/"
        },
        "id": "1-XwI_w3hVBV",
        "outputId": "0d3acfa7-482a-4bcd-99f3-c0b7f06e1a23"
      },
      "execution_count": 18,
      "outputs": [
        {
          "output_type": "stream",
          "name": "stdout",
          "text": [
            "<class 'pandas.core.frame.DataFrame'>\n",
            "RangeIndex: 286 entries, 0 to 285\n",
            "Data columns (total 10 columns):\n",
            " #   Column       Non-Null Count  Dtype \n",
            "---  ------       --------------  ----- \n",
            " 0   Class        286 non-null    object\n",
            " 1   age          286 non-null    object\n",
            " 2   menopause    286 non-null    object\n",
            " 3   tumor-size   286 non-null    object\n",
            " 4   inv-nodes    286 non-null    object\n",
            " 5   node-caps    286 non-null    object\n",
            " 6   deg-malig    286 non-null    int64 \n",
            " 7   breast       286 non-null    object\n",
            " 8   breast-quad  286 non-null    object\n",
            " 9   irradiat     286 non-null    object\n",
            "dtypes: int64(1), object(9)\n",
            "memory usage: 22.5+ KB\n"
          ]
        }
      ]
    },
    {
      "cell_type": "markdown",
      "source": [
        "**Data preparation:**\n",
        "\n",
        "According to the description of the dataset on the web site, it has missing values, but info() didn't detect them, thus we went feature by feature to find them.\n",
        "\n",
        "The result is as follows:\n",
        "\n",
        "1) there are:\n",
        "- 3 binary features (node-caps, breast, irradiat)\n",
        "- 4 ordinal features (age, tumor-size, inv-nodes, deg-malig)\n",
        "- 2 categorical features (menopause, breast-quad)\n",
        "\n",
        "2) 2 features have missing data (node-caps, breast-quad)\n",
        "\n",
        "First, we replace missing data with the mode of the feature and then check that our columns don't have missing values anymore.\n",
        "\n",
        "Next, we encode binary, ordinal and categorical features."
      ],
      "metadata": {
        "id": "_TovbsJziDS2"
      }
    },
    {
      "cell_type": "code",
      "source": [
        "# Replace missing values in 2 columns with the mode of this columns\n",
        "column_names = ['node-caps', 'breast-quad']\n",
        "\n",
        "value_to_replace = '?'\n",
        "for col in column_names:\n",
        "  mode_value = cancer[col].mode().iloc[0]\n",
        "  cancer[col] = cancer[col].replace(value_to_replace, mode_value)"
      ],
      "metadata": {
        "id": "uaS1wm61iP-A"
      },
      "execution_count": 19,
      "outputs": []
    },
    {
      "cell_type": "code",
      "source": [
        "# No missing values anymore\n",
        "node_caps_counts = cancer['node-caps'].value_counts()\n",
        "print(node_caps_counts)\n",
        "\n",
        "print(\"--------------------------\")\n",
        "\n",
        "breast_quad_counts = cancer['breast-quad'].value_counts()\n",
        "print(breast_quad_counts)"
      ],
      "metadata": {
        "colab": {
          "base_uri": "https://localhost:8080/"
        },
        "id": "gybvzb0FiQAy",
        "outputId": "e897bd10-38a0-4407-a78c-f97cc215cdbd"
      },
      "execution_count": 20,
      "outputs": [
        {
          "output_type": "stream",
          "name": "stdout",
          "text": [
            "no     230\n",
            "yes     56\n",
            "Name: node-caps, dtype: int64\n",
            "--------------------------\n",
            "left_low     111\n",
            "left_up       97\n",
            "right_up      33\n",
            "right_low     24\n",
            "central       21\n",
            "Name: breast-quad, dtype: int64\n"
          ]
        }
      ]
    },
    {
      "cell_type": "code",
      "source": [
        "# Binary transformation\n",
        "\n",
        "binary_columns = ['Class', 'breast', 'irradiat', 'node-caps']\n",
        "binary_mapping = {\n",
        "    'Class': {\"no-recurrence-events\": 0, \"recurrence-events\": 1},\n",
        "    'breast': {\"left\": 0.0, \"right\": 1.0},\n",
        "    'irradiat': {\"no\": 0.0, \"yes\": 1.0},\n",
        "    'node-caps': {\"no\": 0.0, \"yes\": 1.0}\n",
        "}\n",
        "\n",
        "for column in binary_columns:\n",
        "    cancer[column] = cancer[column].map(binary_mapping[column])\n",
        "\n",
        "\n",
        "# Transformation of ordinal features (age, tumor-size, inv-nodes)\n",
        "\n",
        "from sklearn.preprocessing import OrdinalEncoder\n",
        "\n",
        "ordinal_columns = ['age', 'tumor-size', 'inv-nodes', 'deg-malig']\n",
        "\n",
        "age_categories = ['20-29', '30-39', '40-49', '50-59', '60-69', '70-79']\n",
        "tumor_size_categories = ['0-4', '5-9', '10-14', '15-19', '20-24', '25-29', '30-34', '35-39', '40-44', '45-49', '50-54']\n",
        "inv_nodes_categories = ['0-2', '3-5', '6-8', '9-11', '12-14', '15-17', '24-26']\n",
        "delig_categories = [1, 2, 3]\n",
        "\n",
        "custom_order = [age_categories, tumor_size_categories, inv_nodes_categories, delig_categories]\n",
        "\n",
        "encoder = OrdinalEncoder(categories=custom_order)\n",
        "cancer[ordinal_columns] = encoder.fit_transform(cancer[ordinal_columns])\n",
        "\n",
        "# Transformation of categorical features (menopause, breast-quad)\n",
        "\n",
        "from sklearn.preprocessing import OneHotEncoder\n",
        "categorical_columns = ['menopause', 'breast-quad']\n",
        "\n",
        "for feature in categorical_columns:\n",
        "    one_hot_encoder = OneHotEncoder(drop='first')\n",
        "    cat_encoded = one_hot_encoder.fit_transform(cancer[[feature]])\n",
        "    onehot_df = pd.DataFrame(cat_encoded.toarray(), columns=one_hot_encoder.get_feature_names_out([feature]))\n",
        "    cancer = pd.concat([cancer, onehot_df], axis=1).drop([feature], axis=1)\n",
        "\n",
        "\n",
        "cancer = cancer.astype(int)\n",
        "cancer.head()"
      ],
      "metadata": {
        "colab": {
          "base_uri": "https://localhost:8080/",
          "height": 206
        },
        "id": "fzsjVE35iQDZ",
        "outputId": "46c50807-c5c8-45e5-c42d-5fe1268b0569"
      },
      "execution_count": 21,
      "outputs": [
        {
          "output_type": "execute_result",
          "data": {
            "text/plain": [
              "   Class  age  tumor-size  inv-nodes  node-caps  deg-malig  breast  irradiat  \\\n",
              "0      0    1           6          0          0          2       0         0   \n",
              "1      0    2           4          0          0          1       1         0   \n",
              "2      0    2           4          0          0          1       0         0   \n",
              "3      0    4           3          0          0          1       1         0   \n",
              "4      0    2           0          0          0          1       1         0   \n",
              "\n",
              "   menopause_lt40  menopause_premeno  breast-quad_left_low  \\\n",
              "0               0                  1                     1   \n",
              "1               0                  1                     0   \n",
              "2               0                  1                     1   \n",
              "3               0                  0                     0   \n",
              "4               0                  1                     0   \n",
              "\n",
              "   breast-quad_left_up  breast-quad_right_low  breast-quad_right_up  \n",
              "0                    0                      0                     0  \n",
              "1                    0                      0                     1  \n",
              "2                    0                      0                     0  \n",
              "3                    1                      0                     0  \n",
              "4                    0                      1                     0  "
            ],
            "text/html": [
              "\n",
              "  <div id=\"df-afef005a-063b-4d95-a899-4c73f88982ee\" class=\"colab-df-container\">\n",
              "    <div>\n",
              "<style scoped>\n",
              "    .dataframe tbody tr th:only-of-type {\n",
              "        vertical-align: middle;\n",
              "    }\n",
              "\n",
              "    .dataframe tbody tr th {\n",
              "        vertical-align: top;\n",
              "    }\n",
              "\n",
              "    .dataframe thead th {\n",
              "        text-align: right;\n",
              "    }\n",
              "</style>\n",
              "<table border=\"1\" class=\"dataframe\">\n",
              "  <thead>\n",
              "    <tr style=\"text-align: right;\">\n",
              "      <th></th>\n",
              "      <th>Class</th>\n",
              "      <th>age</th>\n",
              "      <th>tumor-size</th>\n",
              "      <th>inv-nodes</th>\n",
              "      <th>node-caps</th>\n",
              "      <th>deg-malig</th>\n",
              "      <th>breast</th>\n",
              "      <th>irradiat</th>\n",
              "      <th>menopause_lt40</th>\n",
              "      <th>menopause_premeno</th>\n",
              "      <th>breast-quad_left_low</th>\n",
              "      <th>breast-quad_left_up</th>\n",
              "      <th>breast-quad_right_low</th>\n",
              "      <th>breast-quad_right_up</th>\n",
              "    </tr>\n",
              "  </thead>\n",
              "  <tbody>\n",
              "    <tr>\n",
              "      <th>0</th>\n",
              "      <td>0</td>\n",
              "      <td>1</td>\n",
              "      <td>6</td>\n",
              "      <td>0</td>\n",
              "      <td>0</td>\n",
              "      <td>2</td>\n",
              "      <td>0</td>\n",
              "      <td>0</td>\n",
              "      <td>0</td>\n",
              "      <td>1</td>\n",
              "      <td>1</td>\n",
              "      <td>0</td>\n",
              "      <td>0</td>\n",
              "      <td>0</td>\n",
              "    </tr>\n",
              "    <tr>\n",
              "      <th>1</th>\n",
              "      <td>0</td>\n",
              "      <td>2</td>\n",
              "      <td>4</td>\n",
              "      <td>0</td>\n",
              "      <td>0</td>\n",
              "      <td>1</td>\n",
              "      <td>1</td>\n",
              "      <td>0</td>\n",
              "      <td>0</td>\n",
              "      <td>1</td>\n",
              "      <td>0</td>\n",
              "      <td>0</td>\n",
              "      <td>0</td>\n",
              "      <td>1</td>\n",
              "    </tr>\n",
              "    <tr>\n",
              "      <th>2</th>\n",
              "      <td>0</td>\n",
              "      <td>2</td>\n",
              "      <td>4</td>\n",
              "      <td>0</td>\n",
              "      <td>0</td>\n",
              "      <td>1</td>\n",
              "      <td>0</td>\n",
              "      <td>0</td>\n",
              "      <td>0</td>\n",
              "      <td>1</td>\n",
              "      <td>1</td>\n",
              "      <td>0</td>\n",
              "      <td>0</td>\n",
              "      <td>0</td>\n",
              "    </tr>\n",
              "    <tr>\n",
              "      <th>3</th>\n",
              "      <td>0</td>\n",
              "      <td>4</td>\n",
              "      <td>3</td>\n",
              "      <td>0</td>\n",
              "      <td>0</td>\n",
              "      <td>1</td>\n",
              "      <td>1</td>\n",
              "      <td>0</td>\n",
              "      <td>0</td>\n",
              "      <td>0</td>\n",
              "      <td>0</td>\n",
              "      <td>1</td>\n",
              "      <td>0</td>\n",
              "      <td>0</td>\n",
              "    </tr>\n",
              "    <tr>\n",
              "      <th>4</th>\n",
              "      <td>0</td>\n",
              "      <td>2</td>\n",
              "      <td>0</td>\n",
              "      <td>0</td>\n",
              "      <td>0</td>\n",
              "      <td>1</td>\n",
              "      <td>1</td>\n",
              "      <td>0</td>\n",
              "      <td>0</td>\n",
              "      <td>1</td>\n",
              "      <td>0</td>\n",
              "      <td>0</td>\n",
              "      <td>1</td>\n",
              "      <td>0</td>\n",
              "    </tr>\n",
              "  </tbody>\n",
              "</table>\n",
              "</div>\n",
              "    <div class=\"colab-df-buttons\">\n",
              "\n",
              "  <div class=\"colab-df-container\">\n",
              "    <button class=\"colab-df-convert\" onclick=\"convertToInteractive('df-afef005a-063b-4d95-a899-4c73f88982ee')\"\n",
              "            title=\"Convert this dataframe to an interactive table.\"\n",
              "            style=\"display:none;\">\n",
              "\n",
              "  <svg xmlns=\"http://www.w3.org/2000/svg\" height=\"24px\" viewBox=\"0 -960 960 960\">\n",
              "    <path d=\"M120-120v-720h720v720H120Zm60-500h600v-160H180v160Zm220 220h160v-160H400v160Zm0 220h160v-160H400v160ZM180-400h160v-160H180v160Zm440 0h160v-160H620v160ZM180-180h160v-160H180v160Zm440 0h160v-160H620v160Z\"/>\n",
              "  </svg>\n",
              "    </button>\n",
              "\n",
              "  <style>\n",
              "    .colab-df-container {\n",
              "      display:flex;\n",
              "      gap: 12px;\n",
              "    }\n",
              "\n",
              "    .colab-df-convert {\n",
              "      background-color: #E8F0FE;\n",
              "      border: none;\n",
              "      border-radius: 50%;\n",
              "      cursor: pointer;\n",
              "      display: none;\n",
              "      fill: #1967D2;\n",
              "      height: 32px;\n",
              "      padding: 0 0 0 0;\n",
              "      width: 32px;\n",
              "    }\n",
              "\n",
              "    .colab-df-convert:hover {\n",
              "      background-color: #E2EBFA;\n",
              "      box-shadow: 0px 1px 2px rgba(60, 64, 67, 0.3), 0px 1px 3px 1px rgba(60, 64, 67, 0.15);\n",
              "      fill: #174EA6;\n",
              "    }\n",
              "\n",
              "    .colab-df-buttons div {\n",
              "      margin-bottom: 4px;\n",
              "    }\n",
              "\n",
              "    [theme=dark] .colab-df-convert {\n",
              "      background-color: #3B4455;\n",
              "      fill: #D2E3FC;\n",
              "    }\n",
              "\n",
              "    [theme=dark] .colab-df-convert:hover {\n",
              "      background-color: #434B5C;\n",
              "      box-shadow: 0px 1px 3px 1px rgba(0, 0, 0, 0.15);\n",
              "      filter: drop-shadow(0px 1px 2px rgba(0, 0, 0, 0.3));\n",
              "      fill: #FFFFFF;\n",
              "    }\n",
              "  </style>\n",
              "\n",
              "    <script>\n",
              "      const buttonEl =\n",
              "        document.querySelector('#df-afef005a-063b-4d95-a899-4c73f88982ee button.colab-df-convert');\n",
              "      buttonEl.style.display =\n",
              "        google.colab.kernel.accessAllowed ? 'block' : 'none';\n",
              "\n",
              "      async function convertToInteractive(key) {\n",
              "        const element = document.querySelector('#df-afef005a-063b-4d95-a899-4c73f88982ee');\n",
              "        const dataTable =\n",
              "          await google.colab.kernel.invokeFunction('convertToInteractive',\n",
              "                                                    [key], {});\n",
              "        if (!dataTable) return;\n",
              "\n",
              "        const docLinkHtml = 'Like what you see? Visit the ' +\n",
              "          '<a target=\"_blank\" href=https://colab.research.google.com/notebooks/data_table.ipynb>data table notebook</a>'\n",
              "          + ' to learn more about interactive tables.';\n",
              "        element.innerHTML = '';\n",
              "        dataTable['output_type'] = 'display_data';\n",
              "        await google.colab.output.renderOutput(dataTable, element);\n",
              "        const docLink = document.createElement('div');\n",
              "        docLink.innerHTML = docLinkHtml;\n",
              "        element.appendChild(docLink);\n",
              "      }\n",
              "    </script>\n",
              "  </div>\n",
              "\n",
              "\n",
              "<div id=\"df-1601bb89-ff6b-4328-893b-352dc0998a27\">\n",
              "  <button class=\"colab-df-quickchart\" onclick=\"quickchart('df-1601bb89-ff6b-4328-893b-352dc0998a27')\"\n",
              "            title=\"Suggest charts\"\n",
              "            style=\"display:none;\">\n",
              "\n",
              "<svg xmlns=\"http://www.w3.org/2000/svg\" height=\"24px\"viewBox=\"0 0 24 24\"\n",
              "     width=\"24px\">\n",
              "    <g>\n",
              "        <path d=\"M19 3H5c-1.1 0-2 .9-2 2v14c0 1.1.9 2 2 2h14c1.1 0 2-.9 2-2V5c0-1.1-.9-2-2-2zM9 17H7v-7h2v7zm4 0h-2V7h2v10zm4 0h-2v-4h2v4z\"/>\n",
              "    </g>\n",
              "</svg>\n",
              "  </button>\n",
              "\n",
              "<style>\n",
              "  .colab-df-quickchart {\n",
              "      --bg-color: #E8F0FE;\n",
              "      --fill-color: #1967D2;\n",
              "      --hover-bg-color: #E2EBFA;\n",
              "      --hover-fill-color: #174EA6;\n",
              "      --disabled-fill-color: #AAA;\n",
              "      --disabled-bg-color: #DDD;\n",
              "  }\n",
              "\n",
              "  [theme=dark] .colab-df-quickchart {\n",
              "      --bg-color: #3B4455;\n",
              "      --fill-color: #D2E3FC;\n",
              "      --hover-bg-color: #434B5C;\n",
              "      --hover-fill-color: #FFFFFF;\n",
              "      --disabled-bg-color: #3B4455;\n",
              "      --disabled-fill-color: #666;\n",
              "  }\n",
              "\n",
              "  .colab-df-quickchart {\n",
              "    background-color: var(--bg-color);\n",
              "    border: none;\n",
              "    border-radius: 50%;\n",
              "    cursor: pointer;\n",
              "    display: none;\n",
              "    fill: var(--fill-color);\n",
              "    height: 32px;\n",
              "    padding: 0;\n",
              "    width: 32px;\n",
              "  }\n",
              "\n",
              "  .colab-df-quickchart:hover {\n",
              "    background-color: var(--hover-bg-color);\n",
              "    box-shadow: 0 1px 2px rgba(60, 64, 67, 0.3), 0 1px 3px 1px rgba(60, 64, 67, 0.15);\n",
              "    fill: var(--button-hover-fill-color);\n",
              "  }\n",
              "\n",
              "  .colab-df-quickchart-complete:disabled,\n",
              "  .colab-df-quickchart-complete:disabled:hover {\n",
              "    background-color: var(--disabled-bg-color);\n",
              "    fill: var(--disabled-fill-color);\n",
              "    box-shadow: none;\n",
              "  }\n",
              "\n",
              "  .colab-df-spinner {\n",
              "    border: 2px solid var(--fill-color);\n",
              "    border-color: transparent;\n",
              "    border-bottom-color: var(--fill-color);\n",
              "    animation:\n",
              "      spin 1s steps(1) infinite;\n",
              "  }\n",
              "\n",
              "  @keyframes spin {\n",
              "    0% {\n",
              "      border-color: transparent;\n",
              "      border-bottom-color: var(--fill-color);\n",
              "      border-left-color: var(--fill-color);\n",
              "    }\n",
              "    20% {\n",
              "      border-color: transparent;\n",
              "      border-left-color: var(--fill-color);\n",
              "      border-top-color: var(--fill-color);\n",
              "    }\n",
              "    30% {\n",
              "      border-color: transparent;\n",
              "      border-left-color: var(--fill-color);\n",
              "      border-top-color: var(--fill-color);\n",
              "      border-right-color: var(--fill-color);\n",
              "    }\n",
              "    40% {\n",
              "      border-color: transparent;\n",
              "      border-right-color: var(--fill-color);\n",
              "      border-top-color: var(--fill-color);\n",
              "    }\n",
              "    60% {\n",
              "      border-color: transparent;\n",
              "      border-right-color: var(--fill-color);\n",
              "    }\n",
              "    80% {\n",
              "      border-color: transparent;\n",
              "      border-right-color: var(--fill-color);\n",
              "      border-bottom-color: var(--fill-color);\n",
              "    }\n",
              "    90% {\n",
              "      border-color: transparent;\n",
              "      border-bottom-color: var(--fill-color);\n",
              "    }\n",
              "  }\n",
              "</style>\n",
              "\n",
              "  <script>\n",
              "    async function quickchart(key) {\n",
              "      const quickchartButtonEl =\n",
              "        document.querySelector('#' + key + ' button');\n",
              "      quickchartButtonEl.disabled = true;  // To prevent multiple clicks.\n",
              "      quickchartButtonEl.classList.add('colab-df-spinner');\n",
              "      try {\n",
              "        const charts = await google.colab.kernel.invokeFunction(\n",
              "            'suggestCharts', [key], {});\n",
              "      } catch (error) {\n",
              "        console.error('Error during call to suggestCharts:', error);\n",
              "      }\n",
              "      quickchartButtonEl.classList.remove('colab-df-spinner');\n",
              "      quickchartButtonEl.classList.add('colab-df-quickchart-complete');\n",
              "    }\n",
              "    (() => {\n",
              "      let quickchartButtonEl =\n",
              "        document.querySelector('#df-1601bb89-ff6b-4328-893b-352dc0998a27 button');\n",
              "      quickchartButtonEl.style.display =\n",
              "        google.colab.kernel.accessAllowed ? 'block' : 'none';\n",
              "    })();\n",
              "  </script>\n",
              "</div>\n",
              "    </div>\n",
              "  </div>\n"
            ]
          },
          "metadata": {},
          "execution_count": 21
        }
      ]
    },
    {
      "cell_type": "code",
      "source": [
        "# Create an array feature_types\n",
        "feature_types = []\n",
        "for column in cancer.columns:\n",
        "    if column != 'Class':\n",
        "        if cancer[column].nunique() == 2:\n",
        "            feature_types.append('b')\n",
        "        else:\n",
        "            feature_types.append('c')\n",
        "\n",
        "feature_types"
      ],
      "metadata": {
        "colab": {
          "base_uri": "https://localhost:8080/"
        },
        "id": "PEZhplqNi9JW",
        "outputId": "381290ce-bff6-4f43-8d55-2db6f2e4a888"
      },
      "execution_count": 22,
      "outputs": [
        {
          "output_type": "execute_result",
          "data": {
            "text/plain": [
              "['c', 'c', 'c', 'b', 'c', 'b', 'b', 'b', 'b', 'b', 'b', 'b', 'b']"
            ]
          },
          "metadata": {},
          "execution_count": 22
        }
      ]
    },
    {
      "cell_type": "code",
      "source": [
        "X = cancer.drop(\"Class\", axis=1).to_numpy()\n",
        "y = cancer[\"Class\"].to_numpy()\n",
        "\n",
        "clf_NBC = NBC(feature_types)\n",
        "clf_lr = LogisticRegression(max_iter=1000)\n",
        "\n",
        "nbc_perf, lr_perf = compareNBCvsLR(clf_NBC, clf_lr, X, y)\n",
        "makePlot(nbc_perf, lr_perf)"
      ],
      "metadata": {
        "colab": {
          "base_uri": "https://localhost:8080/",
          "height": 895
        },
        "id": "bqUG-_DtjAPi",
        "outputId": "c3a10a92-1087-4d12-ead5-4cd721f6e2d7"
      },
      "execution_count": 23,
      "outputs": [
        {
          "output_type": "stream",
          "name": "stderr",
          "text": [
            "100%|██████████| 200/200 [01:08<00:00,  2.94it/s]\n"
          ]
        },
        {
          "output_type": "display_data",
          "data": {
            "text/plain": [
              "<Figure size 1000x1000 with 1 Axes>"
            ],
            "image/png": "[encoded data removed]"
          },
          "metadata": {}
        }
      ]
    }
  ],
  "metadata": {
    "kernelspec": {
      "display_name": "Python 3",
      "language": "python",
      "name": "python3"
    },
    "language_info": {
      "codemirror_mode": {
        "name": "ipython",
        "version": 3
      },
      "file_extension": ".py",
      "mimetype": "text/x-python",
      "name": "python",
      "nbconvert_exporter": "python",
      "pygments_lexer": "ipython3",
      "version": "3.11.5"
    },
    "colab": {
      "provenance": []
    }
  },
  "nbformat": 4,
  "nbformat_minor": 0
}